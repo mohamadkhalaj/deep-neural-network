{
 "cells": [
  {
   "cell_type": "code",
   "execution_count": 1,
   "id": "109cddbf",
   "metadata": {},
   "outputs": [],
   "source": [
    "import matplotlib.pyplot as plt\n",
    "import numpy as np"
   ]
  },
  {
   "cell_type": "code",
   "execution_count": 234,
   "id": "18c00517",
   "metadata": {},
   "outputs": [],
   "source": [
    "class Value:\n",
    "    def __init__(self, data, child = (), op=''):\n",
    "        self.data = data\n",
    "        self._prev = child\n",
    "        self._op = op\n",
    "        self.grad = 0.0\n",
    "        self._backward = lambda: None\n",
    "    \n",
    "    def __add__(self, other):\n",
    "        other = other if isinstance(other, Value) else Value(other)\n",
    "        out = Value(self.data + other.data, (self, other), '+')\n",
    "        \n",
    "        def _backward():\n",
    "            self.grad += out.grad\n",
    "            other.grad += out.grad\n",
    "        out._backward = _backward\n",
    "        \n",
    "        return out\n",
    "    \n",
    "    def __radd__(self, other):\n",
    "        return self + other\n",
    "    \n",
    "    def __mul__(self, other):\n",
    "        other = other if isinstance(other, Value) else Value(other)\n",
    "        out = Value(self.data * other.data, (self, other), '*')\n",
    "        \n",
    "        def _backward():\n",
    "            self.grad += out.grad * other.data\n",
    "            other.grad += out.grad * self.data\n",
    "        out._backward = _backward\n",
    "        \n",
    "        return out\n",
    "    \n",
    "    def __rmul__(self, other):\n",
    "        return self * other\n",
    "    \n",
    "    def __repr__(self):\n",
    "        return f\"{self.__class__.__name__}(data={self.data})\"\n",
    "    \n",
    "    def backward(self):\n",
    "        childs = []\n",
    "        visited = []\n",
    "        def unpack(node):\n",
    "            if node not in visited:\n",
    "                visited.append(node)\n",
    "                for child in node._prev:\n",
    "                    unpack(child)\n",
    "                childs.append(node)\n",
    "        unpack(self)\n",
    "        self.grad = 1.0\n",
    "        for node in reversed(childs):\n",
    "            node._backward()\n",
    "            \n",
    "    def relu(self):\n",
    "        out = Value(0 if self.data < 0 else self.data, (self,), 'Relu')\n",
    "\n",
    "        def _backward():\n",
    "            self.grad += (out.data > 0) * out.grad\n",
    "        out._backward = _backward\n",
    "\n",
    "        return out\n",
    "            \n",
    "    def __sub__(self, other):\n",
    "        return self + (-other)\n",
    "    \n",
    "    def __rsub__(self, other):\n",
    "        return other + (-self)\n",
    "    \n",
    "    def __truediv__(self, other):\n",
    "        return self * other**-1\n",
    "    \n",
    "    def __rtruediv__(self, other):\n",
    "        return other * self**-1\n",
    "    \n",
    "    def __neg__(self):\n",
    "        return self * -1"
   ]
  },
  {
   "cell_type": "code",
   "execution_count": 277,
   "id": "2eac6658",
   "metadata": {},
   "outputs": [],
   "source": [
    "class Neuron:\n",
    "    def __init__(self, inp, nonlin=True):\n",
    "        self.w = [Value(np.random.uniform(-1, 1)) for _ in range(inp)]\n",
    "        self.b = Value(0)\n",
    "        self.nonlin = nonlin\n",
    "\n",
    "    def __call__(self, x):\n",
    "        Z = sum([w*x_ for w, x_ in zip(self.w, x)], self.b)\n",
    "        return Z.relu() if self.nonlin else Z\n",
    "    \n",
    "    def parameters(self):\n",
    "        return self.w + [self.b]\n",
    "    \n",
    "    def __repr__(self):\n",
    "        return f\"{'ReLU' if self.nonlin else 'Linear'}{self.__class__.__name__}({len(self.w)})\""
   ]
  },
  {
   "cell_type": "code",
   "execution_count": 276,
   "id": "06f338d2",
   "metadata": {},
   "outputs": [],
   "source": [
    "class Layer:\n",
    "    def __init__(self, nin, neurons, **kwargs):\n",
    "        self.neurons = [Neuron(nin, **kwargs) for _ in range(neurons)]\n",
    "    \n",
    "    def __call__(self, x):\n",
    "        return [n(x) for n in self.neurons]\n",
    "    \n",
    "    def parameters(self):\n",
    "        return [p for n in self.neurons for p in n.parameters()]\n",
    "    \n",
    "    def __repr__(self):\n",
    "        return f\"Layer of [{', '.join(str(n) for n in self.neurons)}]\""
   ]
  },
  {
   "cell_type": "code",
   "execution_count": 274,
   "id": "d99a50e4",
   "metadata": {},
   "outputs": [],
   "source": [
    "class MLP:\n",
    "    def __init__(self, nin, nouts):\n",
    "        sz = [nin] + nouts\n",
    "        self.layers = [Layer(sz[i], sz[i+1], nonlin=i!=len(nouts)-1) for i in range(len(nouts))]\n",
    "\n",
    "    def __call__(self, x):\n",
    "        for layer in self.layers:\n",
    "            x = layer(x)\n",
    "        return x\n",
    "    \n",
    "    def parameters(self):\n",
    "        return [p for layer in self.layers for p in layer.parameters()]"
   ]
  },
  {
   "cell_type": "code",
   "execution_count": 295,
   "id": "25c90671",
   "metadata": {},
   "outputs": [
    {
     "data": {
      "text/plain": [
       "<matplotlib.collections.PathCollection at 0x2a0d6d570>"
      ]
     },
     "execution_count": 295,
     "metadata": {},
     "output_type": "execute_result"
    },
    {
     "data": {
      "image/png": "[encoded data removed]",
      "text/plain": [
       "<Figure size 500x500 with 1 Axes>"
      ]
     },
     "metadata": {},
     "output_type": "display_data"
    }
   ],
   "source": [
    "from sklearn.datasets import make_moons, make_blobs\n",
    "X, y = make_moons(n_samples=100, noise=0.1)\n",
    "\n",
    "y = y*2 - 1 # make y be -1 or 1\n",
    "# visualize in 2D\n",
    "plt.figure(figsize=(5,5))\n",
    "plt.scatter(X[:,0], X[:,1], c=y, s=20, cmap='jet')"
   ]
  },
  {
   "cell_type": "code",
   "execution_count": 322,
   "id": "409286ce",
   "metadata": {},
   "outputs": [],
   "source": [
    "model = MLP(X.shape[1], [10,10,1])"
   ]
  },
  {
   "cell_type": "code",
   "execution_count": 323,
   "id": "0b2aa542",
   "metadata": {},
   "outputs": [
    {
     "name": "stdout",
     "output_type": "stream",
     "text": [
      "Value(data=1.4197804077889034) 0.31\n"
     ]
    }
   ],
   "source": [
    "# loss function\n",
    "def loss():\n",
    "\n",
    "    inputs = [list(map(Value, xrow)) for xrow in X]\n",
    "    \n",
    "    # forward the model to get scores\n",
    "    scores = list(map(model, inputs))\n",
    "\n",
    "    # svm \"max-margin\" loss\n",
    "    losses = [(1 + -yi*scorei[0]).relu() for yi, scorei in zip(y, scores)]\n",
    "    data_loss = sum(losses) * (1.0 / len(losses))\n",
    "    \n",
    "    # L2 regularization\n",
    "    alpha = 1e-4\n",
    "    reg_loss = alpha * sum((p*p for p in model.parameters()))\n",
    "    total_loss = data_loss + reg_loss\n",
    "    \n",
    "    # also get accuracy\n",
    "    accuracy = [(yi > 0) == (scorei[0].data > 0) for yi, scorei in zip(y, scores)]\n",
    "    return total_loss, sum(accuracy) / len(accuracy)\n",
    "\n",
    "total_loss, acc = loss()\n",
    "print(total_loss, acc)"
   ]
  },
  {
   "cell_type": "code",
   "execution_count": 324,
   "id": "bf41138b",
   "metadata": {},
   "outputs": [
    {
     "name": "stdout",
     "output_type": "stream",
     "text": [
      "step 0 loss 1.4197804077889034, accuracy 31.0%\n",
      "step 1 loss 0.579064311296106, accuracy 78.0%\n",
      "step 2 loss 0.7255293697374962, accuracy 75.0%\n",
      "step 3 loss 0.4511264586014024, accuracy 79.0%\n",
      "step 4 loss 0.361648082196591, accuracy 82.0%\n",
      "step 5 loss 0.31882334809792584, accuracy 86.0%\n",
      "step 6 loss 0.37950540707398783, accuracy 86.0%\n",
      "step 7 loss 0.30808888311310517, accuracy 88.0%\n",
      "step 8 loss 0.33882738884067254, accuracy 86.0%\n",
      "step 9 loss 0.2713556649003337, accuracy 87.0%\n",
      "step 10 loss 0.28390570722824127, accuracy 87.0%\n",
      "step 11 loss 0.23505176758542234, accuracy 90.0%\n",
      "step 12 loss 0.23925243862316592, accuracy 91.0%\n",
      "step 13 loss 0.25269809292618817, accuracy 87.0%\n",
      "step 14 loss 0.3206861356058514, accuracy 88.0%\n",
      "step 15 loss 0.24827891908372576, accuracy 89.0%\n",
      "step 16 loss 0.24932028887380345, accuracy 89.0%\n",
      "step 17 loss 0.19895959559080806, accuracy 92.0%\n",
      "step 18 loss 0.18694477162358983, accuracy 92.0%\n",
      "step 19 loss 0.1886340210865742, accuracy 93.0%\n",
      "step 20 loss 0.18795377381489203, accuracy 93.0%\n",
      "step 21 loss 0.1773438343475351, accuracy 92.0%\n",
      "step 22 loss 0.17111712245350155, accuracy 93.0%\n",
      "step 23 loss 0.16565927746682002, accuracy 93.0%\n",
      "step 24 loss 0.16202965764996136, accuracy 93.0%\n",
      "step 25 loss 0.1592020980307514, accuracy 94.0%\n",
      "step 26 loss 0.1647717566267928, accuracy 94.0%\n",
      "step 27 loss 0.15666555092814982, accuracy 94.0%\n",
      "step 28 loss 0.17453042861853646, accuracy 94.0%\n",
      "step 29 loss 0.17636869757095677, accuracy 93.0%\n",
      "step 30 loss 0.15867866675217987, accuracy 94.0%\n",
      "step 31 loss 0.14222936547918102, accuracy 94.0%\n",
      "step 32 loss 0.13367205591261594, accuracy 94.0%\n",
      "step 33 loss 0.13004538288845774, accuracy 94.0%\n",
      "step 34 loss 0.1257477880430457, accuracy 95.0%\n",
      "step 35 loss 0.12917863001094732, accuracy 94.0%\n",
      "step 36 loss 0.1449729622012679, accuracy 94.0%\n",
      "step 37 loss 0.14919921206935416, accuracy 94.0%\n",
      "step 38 loss 0.13010879087854163, accuracy 94.0%\n",
      "step 39 loss 0.11750314419688457, accuracy 95.0%\n",
      "step 40 loss 0.10744897659636565, accuracy 94.0%\n",
      "step 41 loss 0.10432638182474277, accuracy 95.0%\n",
      "step 42 loss 0.09988459688382124, accuracy 96.0%\n",
      "step 43 loss 0.09631223306586821, accuracy 95.0%\n",
      "step 44 loss 0.0911822368635066, accuracy 95.0%\n",
      "step 45 loss 0.08718053154998652, accuracy 95.0%\n",
      "step 46 loss 0.08183686834343473, accuracy 95.0%\n",
      "step 47 loss 0.08461063116011738, accuracy 98.0%\n",
      "step 48 loss 0.12937282321446392, accuracy 95.0%\n",
      "step 49 loss 0.08302696801067679, accuracy 97.0%\n",
      "step 50 loss 0.06457855345463998, accuracy 97.0%\n",
      "step 51 loss 0.06165755630233055, accuracy 99.0%\n",
      "step 52 loss 0.07295491772521889, accuracy 96.0%\n",
      "step 53 loss 0.06903506710796993, accuracy 99.0%\n",
      "step 54 loss 0.1306101826235184, accuracy 95.0%\n",
      "step 55 loss 0.0619893475243852, accuracy 99.0%\n",
      "step 56 loss 0.04039313749980422, accuracy 100.0%\n",
      "step 57 loss 0.042496935989064066, accuracy 99.0%\n",
      "step 58 loss 0.0857692483875038, accuracy 96.0%\n",
      "step 59 loss 0.04248250112277698, accuracy 99.0%\n",
      "step 60 loss 0.02976030679352989, accuracy 100.0%\n",
      "step 61 loss 0.023985596370723478, accuracy 100.0%\n",
      "step 62 loss 0.02076021202173961, accuracy 100.0%\n",
      "step 63 loss 0.023589067495237988, accuracy 100.0%\n",
      "step 64 loss 0.02029239380313242, accuracy 100.0%\n",
      "step 65 loss 0.024097845670024605, accuracy 100.0%\n",
      "step 66 loss 0.019757686184622123, accuracy 100.0%\n",
      "step 67 loss 0.03124508325651559, accuracy 99.0%\n",
      "step 68 loss 0.05095042606520238, accuracy 99.0%\n",
      "step 69 loss 0.028119259140763103, accuracy 100.0%\n",
      "step 70 loss 0.029432585930153635, accuracy 99.0%\n",
      "step 71 loss 0.017671747307192547, accuracy 100.0%\n",
      "step 72 loss 0.013536838100090615, accuracy 100.0%\n",
      "step 73 loss 0.013489930356109469, accuracy 100.0%\n",
      "step 74 loss 0.01401747148380221, accuracy 100.0%\n",
      "step 75 loss 0.019480450252536387, accuracy 100.0%\n",
      "step 76 loss 0.01305490275905919, accuracy 100.0%\n",
      "step 77 loss 0.010498500523358158, accuracy 100.0%\n",
      "step 78 loss 0.01158825809569464, accuracy 100.0%\n",
      "step 79 loss 0.011765438864451597, accuracy 100.0%\n",
      "step 80 loss 0.014097448252068413, accuracy 100.0%\n",
      "step 81 loss 0.010603827309837287, accuracy 100.0%\n",
      "step 82 loss 0.008986747885021224, accuracy 100.0%\n",
      "step 83 loss 0.010834266965839376, accuracy 100.0%\n",
      "step 84 loss 0.010023949744231304, accuracy 100.0%\n",
      "step 85 loss 0.011392226793282594, accuracy 100.0%\n",
      "step 86 loss 0.009642986909646, accuracy 100.0%\n",
      "step 87 loss 0.007660009546313147, accuracy 100.0%\n",
      "step 88 loss 0.008474198188664838, accuracy 100.0%\n",
      "step 89 loss 0.01210625614839403, accuracy 100.0%\n",
      "step 90 loss 0.008971625262751387, accuracy 100.0%\n",
      "step 91 loss 0.00747608079684661, accuracy 100.0%\n",
      "step 92 loss 0.007114331459399373, accuracy 100.0%\n",
      "step 93 loss 0.009195032584601808, accuracy 100.0%\n",
      "step 94 loss 0.009109587176191874, accuracy 100.0%\n",
      "step 95 loss 0.007034127892039799, accuracy 100.0%\n",
      "step 96 loss 0.008530049644105963, accuracy 100.0%\n",
      "step 97 loss 0.00873033323354022, accuracy 100.0%\n",
      "step 98 loss 0.007600782094868127, accuracy 100.0%\n",
      "step 99 loss 0.006782621799486757, accuracy 100.0%\n"
     ]
    }
   ],
   "source": [
    "# optimization\n",
    "for k in range(100):\n",
    "    \n",
    "    # forward\n",
    "    total_loss, acc = loss()\n",
    "    \n",
    "    # backward\n",
    "    for item in model.parameters():\n",
    "        item.grad = 0.0\n",
    "    total_loss.backward()\n",
    "    \n",
    "    # update (sgd)\n",
    "    learning_rate = 1.0 - 0.9*k/100\n",
    "    for p in model.parameters():\n",
    "        p.data -= learning_rate * p.grad\n",
    "    \n",
    "    if k % 1 == 0:\n",
    "        print(f\"step {k} loss {total_loss.data}, accuracy {acc*100}%\")"
   ]
  },
  {
   "cell_type": "code",
   "execution_count": 327,
   "id": "185a26c4",
   "metadata": {},
   "outputs": [
    {
     "data": {
      "text/plain": [
       "(-1.6482441174508837, 2.1017558825491163)"
      ]
     },
     "execution_count": 327,
     "metadata": {},
     "output_type": "execute_result"
    },
    {
     "data": {
      "image/png": "[encoded data removed]",
      "text/plain": [
       "<Figure size 640x480 with 1 Axes>"
      ]
     },
     "metadata": {},
     "output_type": "display_data"
    }
   ],
   "source": [
    "# visualize decision boundary\n",
    "\n",
    "h = 0.25\n",
    "x_min, x_max = X[:, 0].min() - 1, X[:, 0].max() + 1\n",
    "y_min, y_max = X[:, 1].min() - 1, X[:, 1].max() + 1\n",
    "xx, yy = np.meshgrid(np.arange(x_min, x_max, h),\n",
    "                     np.arange(y_min, y_max, h))\n",
    "Xmesh = np.c_[xx.ravel(), yy.ravel()]\n",
    "inputs = [list(map(Value, xrow)) for xrow in Xmesh]\n",
    "scores = list(map(model, inputs))\n",
    "Z = np.array([s[0].data > 0 for s in scores])\n",
    "Z = Z.reshape(xx.shape)\n",
    "\n",
    "fig = plt.figure()\n",
    "plt.contourf(xx, yy, Z, cmap=plt.cm.Spectral, alpha=0.8)\n",
    "plt.scatter(X[:, 0], X[:, 1], c=y, s=40, cmap=plt.cm.Spectral)\n",
    "plt.xlim(xx.min(), xx.max())\n",
    "plt.ylim(yy.min(), yy.max())"
   ]
  }
 ],
 "metadata": {
  "kernelspec": {
   "display_name": "Python 3 (ipykernel)",
   "language": "python",
   "name": "python3"
  },
  "language_info": {
   "codemirror_mode": {
    "name": "ipython",
    "version": 3
   },
   "file_extension": ".py",
   "mimetype": "text/x-python",
   "name": "python",
   "nbconvert_exporter": "python",
   "pygments_lexer": "ipython3",
   "version": "3.10.12"
  }
 },
 "nbformat": 4,
 "nbformat_minor": 5
}
